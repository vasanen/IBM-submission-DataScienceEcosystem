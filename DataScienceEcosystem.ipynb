{
 "cells": [
  {
   "cell_type": "markdown",
   "id": "c5bee388-1ff9-4807-a525-1a41cd91a0d2",
   "metadata": {},
   "source": [
    "# Data Science Tools and Ecosystem"
   ]
  },
  {
   "cell_type": "markdown",
   "id": "027187d1-9d71-4341-b98c-198c1036349b",
   "metadata": {},
   "source": [
    "In this notebook, Data Science Tools and Ecosystem are summarized."
   ]
  },
  {
   "cell_type": "markdown",
   "id": "deb1dd35-3b9d-4770-8f55-c538daa4a4c7",
   "metadata": {},
   "source": [
    "Some of the popular languages that Data Scientists use are:\n",
    "1. Python\n",
    "2. R\n",
    "3. SQL"
   ]
  },
  {
   "cell_type": "markdown",
   "id": "dcfaa82d-d3af-48d2-9b6b-d3457474cbad",
   "metadata": {},
   "source": [
    "Some of the commonly used libraries used by Data Scientists include:\n",
    "1. Pandas\n",
    "2. Matplotlib\n",
    "3. TensorFlow"
   ]
  },
  {
   "cell_type": "markdown",
   "id": "5080995b-9a9e-4f6d-b7dc-b6cd5919c8cb",
   "metadata": {},
   "source": [
    "| Data Science Tools |\n",
    "|---|\n",
    "| MySQL |\n",
    "| Apache Airflow |\n",
    "| Cognos Analytics |"
   ]
  },
  {
   "cell_type": "markdown",
   "id": "4fd20999-3f3c-43bd-a94e-08153a81638c",
   "metadata": {},
   "source": [
    "### Below are a few examples of evaluating arithmetic expressions in Python.\r\n"
   ]
  },
  {
   "cell_type": "code",
   "execution_count": 4,
   "id": "beef6ad4-6a1e-4c0f-8908-29ceab52db8e",
   "metadata": {},
   "outputs": [
    {
     "data": {
      "text/plain": [
       "17"
      ]
     },
     "execution_count": 4,
     "metadata": {},
     "output_type": "execute_result"
    }
   ],
   "source": [
    "# This a simple arithmetic expression to mutiply then add integers\n",
    "\n",
    "(3*4)+5"
   ]
  },
  {
   "cell_type": "code",
   "execution_count": 5,
   "id": "1ecb683e-b43b-44c4-b757-2597d078a35b",
   "metadata": {},
   "outputs": [
    {
     "data": {
      "text/plain": [
       "3.3333333333333335"
      ]
     },
     "execution_count": 5,
     "metadata": {},
     "output_type": "execute_result"
    }
   ],
   "source": [
    "# In this code cell write an expression that converts 200 minutes into hours\n",
    "\n",
    "200 / 60"
   ]
  },
  {
   "cell_type": "markdown",
   "id": "a83f1f6b-e93c-4118-a909-5dc5d3de783f",
   "metadata": {},
   "source": [
    "**Objectives:**\n",
    "\n",
    "This notebook covered the following topics\n",
    "* Popular languages that data scientists use\n",
    "* Commonly used libraries\n",
    "* Some data science tools\n",
    "* Examples of arithmetic expressions in Python"
   ]
  },
  {
   "cell_type": "markdown",
   "id": "35a7b8a4-eafd-48e4-9d20-943c18d068d7",
   "metadata": {},
   "source": [
    "## Author\n",
    "Lassi Vasanen"
   ]
  },
  {
   "cell_type": "code",
   "execution_count": null,
   "id": "aa9e7c0f-42bc-4955-8cca-e24b5f5dcff6",
   "metadata": {},
   "outputs": [],
   "source": []
  }
 ],
 "metadata": {
  "kernelspec": {
   "display_name": "Python 3 (ipykernel)",
   "language": "python",
   "name": "python3"
  },
  "language_info": {
   "codemirror_mode": {
    "name": "ipython",
    "version": 3
   },
   "file_extension": ".py",
   "mimetype": "text/x-python",
   "name": "python",
   "nbconvert_exporter": "python",
   "pygments_lexer": "ipython3",
   "version": "3.11.8"
  }
 },
 "nbformat": 4,
 "nbformat_minor": 5
}
